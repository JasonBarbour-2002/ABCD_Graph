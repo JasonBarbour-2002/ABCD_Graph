{
 "cells": [
  {
   "cell_type": "code",
   "execution_count": 7,
   "metadata": {},
   "outputs": [],
   "source": [
    "import networkx as nx\n",
    "from graph_abcd import GraphABCD\n",
    "import numpy as np"
   ]
  },
  {
   "cell_type": "code",
   "execution_count": 8,
   "metadata": {},
   "outputs": [],
   "source": [
    "n = 10_000\n",
    "t1 = 3\n",
    "min_degree = 5\n",
    "max_degree = 50\n",
    "t2 = 2\n",
    "min_comu = 50\n",
    "max_comu = 1000\n",
    "mu = 0.2\n",
    "path = \"Data_Graph/\"\n",
    "\n",
    "abcd = GraphABCD(n, t1, min_degree, max_degree, t2, min_comu, max_comu, mu = mu, path = path)"
   ]
  },
  {
   "cell_type": "code",
   "execution_count": 9,
   "metadata": {},
   "outputs": [
    {
     "name": "stderr",
     "output_type": "stream",
     "text": [
      "[ Info: Usage: julia abcd_sampler.jl config_filename\n",
      "[ Info: For the syntax of config_filename see example_config.toml file\n",
      "[ Info: Expected value of degree: 8.327743727955891\n",
      "[ Info: Expected value of community size: 156.5613820733916\n"
     ]
    }
   ],
   "source": [
    "G = abcd.generate()"
   ]
  },
  {
   "cell_type": "code",
   "execution_count": 10,
   "metadata": {},
   "outputs": [
    {
     "name": "stdout",
     "output_type": "stream",
     "text": [
      "Number of nodes:  10000\n",
      "Number of edges:  42070\n",
      "Number of communities:  61\n",
      "Average degree:  8.414\n",
      "Average community size:  163.9344262295082\n"
     ]
    }
   ],
   "source": [
    "print(\"Number of nodes: \", G.number_of_nodes())\n",
    "print(\"Number of edges: \", G.number_of_edges()) \n",
    "comu = nx.get_node_attributes(G, 'community')\n",
    "values = comu.values()\n",
    "unique_comu = set(values)\n",
    "print(\"Number of communities: \", len(unique_comu))\n",
    "print(\"Average degree: \", np.mean([G.degree(n) for n in G.nodes()]))\n",
    "comu_size = np.array(list(values))\n",
    "comu_size = np.bincount(comu_size)[1:] # index for community 0 is not included\n",
    "print(\"Average community size: \", np.mean(comu_size))"
   ]
  }
 ],
 "metadata": {
  "kernelspec": {
   "display_name": "Python 3",
   "language": "python",
   "name": "python3"
  },
  "language_info": {
   "codemirror_mode": {
    "name": "ipython",
    "version": 3
   },
   "file_extension": ".py",
   "mimetype": "text/x-python",
   "name": "python",
   "nbconvert_exporter": "python",
   "pygments_lexer": "ipython3",
   "version": "3.11.0"
  }
 },
 "nbformat": 4,
 "nbformat_minor": 2
}
