{
 "cells": [
  {
   "cell_type": "code",
   "execution_count": 1,
   "metadata": {},
   "outputs": [],
   "source": [
    "from ABCD_Graph import ABCD_Graph,CheckGraph"
   ]
  },
  {
   "cell_type": "code",
   "execution_count": 2,
   "metadata": {},
   "outputs": [
    {
     "name": "stderr",
     "output_type": "stream",
     "text": [
      "[ Info: Usage: julia abcd_sampler.jl config_filename\n",
      "[ Info: For the syntax of config_filename see example_config.toml file\n",
      "[ Info: Expected value of degree: 8.327743727955891\n",
      "[ Info: Expected value of community size: 156.5613820733916\n"
     ]
    }
   ],
   "source": [
    "network = ABCD_Graph(10000,3,5,50,1000,2,50,1000,1000,0.2,path='networks')"
   ]
  },
  {
   "cell_type": "code",
   "execution_count": 3,
   "metadata": {},
   "outputs": [
    {
     "name": "stderr",
     "output_type": "stream",
     "text": [
      "[ Info: Number of nodes: 10000\n",
      "[ Info: Number of communities: 61\n",
      "[ Info: mean required degree: 8.4016\n",
      "[ Info: min required degree: 5\n",
      "[ Info: max required degree: 50\n",
      "[ Info: mean generated degree: 8.4016\n",
      "[ Info: min generated degree: 5\n",
      "[ Info: max generated degree: 50\n",
      "[ Info: mean graph level proportion of internal edges: 0.8059928658146873\n",
      "[ Info: Proportion of internal edges per community:\n",
      "[ Info: Community 1 has size 876 and internal fraction 0.8196359624931053\n",
      "[ Info: Community 2 has size 788 and internal fraction 0.8137785800240674\n",
      "[ Info: Community 3 has size 489 and internal fraction 0.8104125736738703\n",
      "[ Info: Community 4 has size 469 and internal fraction 0.812618595825427\n",
      "[ Info: Community 5 has size 464 and internal fraction 0.8064032016008004\n",
      "[ Info: Community 6 has size 400 and internal fraction 0.8074424099232133\n",
      "[ Info: Community 7 has size 367 and internal fraction 0.8126315789473684\n",
      "[ Info: Community 8 has size 340 and internal fraction 0.8037709497206704\n",
      "[ Info: Community 9 has size 325 and internal fraction 0.8035062089116143\n",
      "[ Info: Community 10 has size 271 and internal fraction 0.8041060735671514\n",
      "[ Info: Community 11 has size 260 and internal fraction 0.8025423728813559\n",
      "[ Info: Community 12 has size 248 and internal fraction 0.8090737240075614\n",
      "[ Info: Community 13 has size 243 and internal fraction 0.8064992614475628\n",
      "[ Info: Community 14 has size 204 and internal fraction 0.8032078963602715\n",
      "[ Info: Community 15 has size 191 and internal fraction 0.8026058631921824\n",
      "[ Info: Community 16 has size 157 and internal fraction 0.80625\n",
      "[ Info: Community 17 has size 156 and internal fraction 0.8028503562945368\n",
      "[ Info: Community 18 has size 152 and internal fraction 0.7966942148760331\n",
      "[ Info: Community 19 has size 138 and internal fraction 0.8006230529595015\n",
      "[ Info: Community 20 has size 134 and internal fraction 0.8\n",
      "[ Info: Community 21 has size 130 and internal fraction 0.8\n",
      "[ Info: Community 22 has size 126 and internal fraction 0.8025830258302583\n",
      "[ Info: Community 23 has size 120 and internal fraction 0.7961165048543689\n",
      "[ Info: Community 24 has size 115 and internal fraction 0.7984862819299905\n",
      "[ Info: Community 25 has size 115 and internal fraction 0.7992087042532147\n",
      "[ Info: Community 26 has size 109 and internal fraction 0.8018327605956472\n",
      "[ Info: Community 27 has size 108 and internal fraction 0.8067796610169492\n",
      "[ Info: Community 28 has size 106 and internal fraction 0.8020304568527918\n",
      "[ Info: Community 29 has size 104 and internal fraction 0.802247191011236\n",
      "[ Info: Community 30 has size 103 and internal fraction 0.7939814814814815\n",
      "[ Info: Community 31 has size 96 and internal fraction 0.7968397291196389\n",
      "[ Info: Community 32 has size 94 and internal fraction 0.8042203985932005\n",
      "[ Info: Community 33 has size 92 and internal fraction 0.8065739570164349\n",
      "[ Info: Community 34 has size 88 and internal fraction 0.797752808988764\n",
      "[ Info: Community 35 has size 87 and internal fraction 0.8073394495412844\n",
      "[ Info: Community 36 has size 80 and internal fraction 0.8030075187969925\n",
      "[ Info: Community 37 has size 78 and internal fraction 0.8029411764705883\n",
      "[ Info: Community 38 has size 78 and internal fraction 0.7892976588628763\n",
      "[ Info: Community 39 has size 76 and internal fraction 0.8\n",
      "[ Info: Community 40 has size 75 and internal fraction 0.8055555555555556\n",
      "[ Info: Community 41 has size 74 and internal fraction 0.8043087971274686\n",
      "[ Info: Community 42 has size 74 and internal fraction 0.8027444253859348\n",
      "[ Info: Community 43 has size 73 and internal fraction 0.7947454844006568\n",
      "[ Info: Community 44 has size 73 and internal fraction 0.802065404475043\n",
      "[ Info: Community 45 has size 73 and internal fraction 0.7988338192419825\n",
      "[ Info: Community 46 has size 72 and internal fraction 0.7978723404255319\n",
      "[ Info: Community 47 has size 71 and internal fraction 0.8012820512820513\n",
      "[ Info: Community 48 has size 71 and internal fraction 0.8022598870056498\n",
      "[ Info: Community 49 has size 70 and internal fraction 0.8074074074074075\n",
      "[ Info: Community 50 has size 69 and internal fraction 0.804920913884007\n",
      "[ Info: Community 51 has size 67 and internal fraction 0.7922330097087379\n",
      "[ Info: Community 52 has size 64 and internal fraction 0.8049281314168378\n",
      "[ Info: Community 53 has size 64 and internal fraction 0.7977099236641222\n",
      "[ Info: Community 54 has size 56 and internal fraction 0.7969543147208121\n",
      "[ Info: Community 55 has size 56 and internal fraction 0.7966101694915254\n",
      "[ Info: Community 56 has size 55 and internal fraction 0.8063872255489022\n",
      "[ Info: Community 57 has size 55 and internal fraction 0.8023715415019763\n",
      "[ Info: Community 58 has size 54 and internal fraction 0.8\n",
      "[ Info: Community 59 has size 54 and internal fraction 0.8\n",
      "[ Info: Community 60 has size 52 and internal fraction 0.7889908256880734\n",
      "[ Info: Community 61 has size 51 and internal fraction 0.8019559902200489\n"
     ]
    }
   ],
   "source": [
    "CheckGraph(path='networks')"
   ]
  }
 ],
 "metadata": {
  "kernelspec": {
   "display_name": "Python 3",
   "language": "python",
   "name": "python3"
  },
  "language_info": {
   "codemirror_mode": {
    "name": "ipython",
    "version": 3
   },
   "file_extension": ".py",
   "mimetype": "text/x-python",
   "name": "python",
   "nbconvert_exporter": "python",
   "pygments_lexer": "ipython3",
   "version": "3.11.0"
  },
  "orig_nbformat": 4
 },
 "nbformat": 4,
 "nbformat_minor": 2
}
