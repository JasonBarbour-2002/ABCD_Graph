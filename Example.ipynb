{
 "cells": [
  {
   "cell_type": "code",
   "execution_count": 2,
   "metadata": {},
   "outputs": [],
   "source": [
    "from ABCD_Graph import ABCD_Graph\n",
    "import networkx as nx"
   ]
  },
  {
   "cell_type": "code",
   "execution_count": 3,
   "metadata": {},
   "outputs": [
    {
     "name": "stderr",
     "output_type": "stream",
     "text": [
      "[ Info: Usage: julia abcd_sampler.jl config_filename\n",
      "[ Info: For the syntax of config_filename see example_config.toml file\n",
      "[ Info: Expected value of degree: 8.327743727955891\n",
      "[ Info: Expected value of community size: 156.5613820733916\n"
     ]
    }
   ],
   "source": [
    "network = ABCD_Graph(10000,3,5,50,1000,2,50,1000,1000,0.2,path='networks')"
   ]
  }
 ],
 "metadata": {
  "kernelspec": {
   "display_name": "Python 3",
   "language": "python",
   "name": "python3"
  },
  "language_info": {
   "codemirror_mode": {
    "name": "ipython",
    "version": 3
   },
   "file_extension": ".py",
   "mimetype": "text/x-python",
   "name": "python",
   "nbconvert_exporter": "python",
   "pygments_lexer": "ipython3",
   "version": "3.11.0"
  },
  "orig_nbformat": 4
 },
 "nbformat": 4,
 "nbformat_minor": 2
}
